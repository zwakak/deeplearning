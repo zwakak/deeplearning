{
 "cells": [
  {
   "metadata": {
    "id": "5cbc36da0af11ac2"
   },
   "cell_type": "markdown",
   "source": [],
   "id": "5cbc36da0af11ac2"
  },
  {
   "metadata": {
    "ExecuteTime": {
     "end_time": "2024-06-10T17:29:08.417820Z",
     "start_time": "2024-06-10T17:29:05.157181Z"
    }
   },
   "cell_type": "code",
   "source": "!pip3 install --upgrade pip",
   "id": "3e69760b0eb5340",
   "outputs": [
    {
     "name": "stdout",
     "output_type": "stream",
     "text": [
      "\u001B[33mCache entry deserialization failed, entry ignored\u001B[0m\r\n",
      "Collecting pip\r\n",
      "\u001B[?25l  Downloading https://files.pythonhosted.org/packages/a4/6d/6463d49a933f547439d6b5b98b46af8742cc03ae83543e4d7688c2420f8b/pip-21.3.1-py3-none-any.whl (1.7MB)\r\n",
      "\u001B[K    100% |████████████████████████████████| 1.7MB 5.7MB/s eta 0:00:01\r\n",
      "\u001B[31mimageio 2.16.0 has requirement numpy>=1.20.0, but you'll have numpy 1.19.5 which is incompatible.\u001B[0m\r\n",
      "\u001B[?25hInstalling collected packages: pip\r\n",
      "  Found existing installation: pip 10.0.1\r\n",
      "    Uninstalling pip-10.0.1:\r\n",
      "      Successfully uninstalled pip-10.0.1\r\n",
      "Successfully installed pip-21.3.1\r\n"
     ]
    }
   ],
   "execution_count": 8
  },
  {
   "metadata": {
    "colab": {
     "base_uri": "https://localhost:8080/"
    },
    "id": "6197ab5da79f10d0",
    "outputId": "67b9030f-acc7-4894-e274-267e8f78b8b8",
    "ExecuteTime": {
     "end_time": "2024-06-10T17:28:18.730044Z",
     "start_time": "2024-06-10T17:27:59.251262Z"
    }
   },
   "cell_type": "code",
   "source": "!pip3 install tensorflow numpy scikit-image matplotlib pillow opencv-python",
   "id": "6197ab5da79f10d0",
   "outputs": [
    {
     "name": "stdout",
     "output_type": "stream",
     "text": [
      "Collecting tensorflow\r\n",
      "  Using cached https://files.pythonhosted.org/packages/dd/09/e1fc94c28b96f16078c347eda89f6b0640106160588131d8c4e2d507d185/tensorflow-2.6.2-cp36-cp36m-macosx_10_11_x86_64.whl\r\n",
      "Requirement already satisfied: numpy in /Library/Frameworks/Python.framework/Versions/3.6/lib/python3.6/site-packages (1.19.5)\r\n",
      "Requirement already satisfied: scikit-image in /Library/Frameworks/Python.framework/Versions/3.6/lib/python3.6/site-packages (0.17.2)\r\n",
      "Requirement already satisfied: matplotlib in /Library/Frameworks/Python.framework/Versions/3.6/lib/python3.6/site-packages (3.3.4)\r\n",
      "Requirement already satisfied: pillow in /Library/Frameworks/Python.framework/Versions/3.6/lib/python3.6/site-packages (8.4.0)\r\n",
      "Collecting opencv-python\r\n",
      "\u001B[33m  Cache entry deserialization failed, entry ignored\u001B[0m\r\n",
      "  Using cached https://files.pythonhosted.org/packages/77/16/458f59fe1cac841b7b1ce13fb470eba080164aea3184840ed1bb3ced9e1f/opencv-python-4.10.0.82.tar.gz\r\n",
      "\u001B[33m  Missing build time requirements in pyproject.toml for opencv-python from https://files.pythonhosted.org/packages/77/16/458f59fe1cac841b7b1ce13fb470eba080164aea3184840ed1bb3ced9e1f/opencv-python-4.10.0.82.tar.gz#sha256=dbc021eaa310c4145c47cd648cb973db69bb5780d6e635386cd53d3ea76bd2d5: 'wheel'.\u001B[0m\r\n",
      "\u001B[33m  This version of pip does not implement PEP 517 so it cannot build a wheel without 'setuptools' and 'wheel'.\u001B[0m\r\n",
      "\u001B[31m  Could not find a version that satisfies the requirement numpy==1.21.0 (from versions: 1.11.3, 1.12.0, 1.12.1, 1.13.0, 1.13.1, 1.13.3, 1.14.0, 1.14.1, 1.14.2, 1.14.3, 1.14.4, 1.14.5, 1.14.6, 1.15.0, 1.15.1, 1.15.2, 1.15.3, 1.15.4, 1.16.0, 1.16.1, 1.16.2, 1.16.3, 1.16.4, 1.16.5, 1.16.6, 1.17.0, 1.17.1, 1.17.2, 1.17.3, 1.17.4, 1.17.5, 1.18.0, 1.18.1, 1.18.2, 1.18.3, 1.18.4, 1.18.5, 1.19.0, 1.19.1, 1.19.2, 1.19.3, 1.19.4, 1.19.5)\u001B[0m\r\n",
      "\u001B[31mNo matching distribution found for numpy==1.21.0\u001B[0m\r\n",
      "\u001B[33mYou are using pip version 10.0.1, however version 21.3.1 is available.\r\n",
      "You should consider upgrading via the 'pip install --upgrade pip' command.\u001B[0m\r\n"
     ]
    }
   ],
   "execution_count": 6
  },
  {
   "metadata": {
    "id": "b745f0fe7241cf55",
    "ExecuteTime": {
     "end_time": "2024-06-11T10:55:54.303292Z",
     "start_time": "2024-06-11T10:55:48.768210Z"
    }
   },
   "cell_type": "code",
   "source": [
    "import tensorflow as tf\n",
    "from tensorflow.keras.layers import Conv2D, UpSampling2D, Input, Concatenate\n",
    "from tensorflow.keras.models import Model\n",
    "import numpy as np\n",
    "import matplotlib.pyplot as plt\n",
    "from pathlib import Path\n",
    "from tensorflow.keras.callbacks import EarlyStopping, ModelCheckpoint, TensorBoard\n",
    "from skimage.color.colorconv import lab2rgb, gray2rgb"
   ],
   "id": "b745f0fe7241cf55",
   "outputs": [
    {
     "name": "stderr",
     "output_type": "stream",
     "text": [
      "/Library/Python/3.9/site-packages/urllib3/__init__.py:35: NotOpenSSLWarning: urllib3 v2 only supports OpenSSL 1.1.1+, currently the 'ssl' module is compiled with 'LibreSSL 2.8.3'. See: https://github.com/urllib3/urllib3/issues/3020\n",
      "  warnings.warn(\n"
     ]
    }
   ],
   "execution_count": 1
  },
  {
   "metadata": {
    "id": "eb99b5fdd0350cd0",
    "ExecuteTime": {
     "end_time": "2024-06-11T10:55:54.310232Z",
     "start_time": "2024-06-11T10:55:54.304913Z"
    }
   },
   "cell_type": "code",
   "source": [
    "class FusionLayer(tf.keras.layers.Layer):\n",
    "    def call(self, inputs):\n",
    "        imgs, embs = inputs\n",
    "        batch_size = tf.shape(imgs)[0]\n",
    "        height = tf.shape(imgs)[1]\n",
    "        width = tf.shape(imgs)[2]\n",
    "        emb_depth = tf.shape(embs)[-1]\n",
    "\n",
    "        embs = tf.reshape(embs, (batch_size, -1))\n",
    "        embs = tf.repeat(embs, repeats=height * width, axis=1)\n",
    "        embs = tf.reshape(embs, (batch_size, height, width, emb_depth))\n",
    "\n",
    "        return tf.concat([imgs, embs], axis=-1)\n",
    "\n",
    "    def compute_output_shape(self, input_shapes):\n",
    "        assert input_shapes and len(input_shapes) == 2\n",
    "        imgs_shape, embs_shape = input_shapes\n",
    "        assert imgs_shape[0] == embs_shape[0]\n",
    "        return imgs_shape[:3] + (imgs_shape[3] + embs_shape[-1],)\n"
   ],
   "id": "eb99b5fdd0350cd0",
   "outputs": [],
   "execution_count": 2
  },
  {
   "metadata": {
    "id": "ffb5aa8250123f8b",
    "ExecuteTime": {
     "end_time": "2024-06-11T10:56:17.177314Z",
     "start_time": "2024-06-11T10:56:17.165740Z"
    }
   },
   "cell_type": "code",
   "source": [
    "class Colorization:\n",
    "    def __init__(self, depth_after_fusion):\n",
    "        self.encoder = self.build_encoder()\n",
    "        self.fusion = FusionLayer()\n",
    "        self.after_fusion = Conv2D(depth_after_fusion, (1, 1), activation='relu')\n",
    "        self.decoder = self.build_decoder(depth_after_fusion)\n",
    "\n",
    "    def build_encoder(self):\n",
    "        input_layer = Input(shape=(None, None, 1), name='encoder_input')\n",
    "        x = Conv2D(64, (3, 3), activation=\"relu\", padding=\"same\", strides=2)(input_layer)  # 112x112\n",
    "        x = Conv2D(128, (3, 3), activation=\"relu\", padding=\"same\")(x)\n",
    "        x = Conv2D(128, (3, 3), activation=\"relu\", padding=\"same\", strides=2)(x)  # 56x56\n",
    "        x = Conv2D(256, (3, 3), activation=\"relu\", padding=\"same\")(x)\n",
    "        x = Conv2D(256, (3, 3), activation=\"relu\", padding=\"same\", strides=2)(x)  # 28x28\n",
    "        x = Conv2D(512, (3, 3), activation=\"relu\", padding=\"same\")(x)\n",
    "        x = Conv2D(512, (3, 3), activation=\"relu\", padding=\"same\")(x)\n",
    "        x = Conv2D(256, (3, 3), activation=\"relu\", padding=\"same\")(x)  # Ensure 28x28x256 output\n",
    "        return Model(inputs=input_layer, outputs=x, name='encoder')\n",
    "\n",
    "    def build_decoder(self, encoding_depth=256):\n",
    "        input_layer = Input(shape=(None, None, encoding_depth), name='decoder_input')\n",
    "        x = Conv2D(128, (3, 3), activation=\"relu\", padding=\"same\")(input_layer)\n",
    "        x = UpSampling2D((2, 2))(x)  # 56x56\n",
    "        x = Conv2D(64, (3, 3), activation=\"relu\", padding=\"same\")(x)\n",
    "        x = Conv2D(64, (3, 3), activation=\"relu\", padding=\"same\")(x)\n",
    "        x = UpSampling2D((2, 2))(x)  # 112x112\n",
    "        x = Conv2D(32, (3, 3), activation=\"relu\", padding=\"same\")(x)\n",
    "        output_layer = Conv2D(2, (3, 3), activation=\"tanh\", padding=\"same\")(x)\n",
    "        output_layer = UpSampling2D((2, 2))(output_layer)  # 224x224\n",
    "        return Model(inputs=input_layer, outputs=output_layer, name='decoder')\n",
    "\n",
    "    def build(self, img_l, img_emb):\n",
    "        img_enc = self.encoder(img_l)\n",
    "        fusion = self.fusion([img_enc, img_emb])\n",
    "        fusion = self.after_fusion(fusion)\n",
    "        output = self.decoder(fusion)\n",
    "        return output"
   ],
   "id": "ffb5aa8250123f8b",
   "outputs": [],
   "execution_count": 3
  },
  {
   "cell_type": "code",
   "source": [
    "width = 224\n",
    "height = 224\n",
    "depth = 3\n",
    "img_shape = (width, height, depth)\n",
    "embedding_size = 1001\n",
    "def load_dataset(tfrecords_dir, batch_size,pattern, shuffle=True,):\n",
    "\n",
    "\n",
    "    files = tf.data.Dataset.list_files(f\"{tfrecords_dir}/{pattern}\")\n",
    "    dataset = files.interleave(tf.data.TFRecordDataset, cycle_length=4)\n",
    "    dataset = dataset.map(parse_tfrecord_fn, num_parallel_calls=tf.data.AUTOTUNE)\n",
    "\n",
    "    if shuffle:\n",
    "        dataset = dataset.shuffle(buffer_size=10000)\n",
    "\n",
    "    dataset = dataset.batch(batch_size)\n",
    "    dataset = dataset.prefetch(buffer_size=tf.data.AUTOTUNE)\n",
    "    return dataset\n",
    "\n",
    "def parse_tfrecord_fn(example):\n",
    "\n",
    "    feature_description = {\n",
    "        \"image_name\": tf.io.FixedLenFeature([], tf.string),  # Image filename\n",
    "        \"image_l\": tf.io.FixedLenFeature([width * height], tf.float32),\n",
    "        \"image_ab\": tf.io.FixedLenFeature([width * height * 2], tf.float32),\n",
    "        \"image_embedding\": tf.io.FixedLenFeature([embedding_size], tf.float32),\n",
    "    }\n",
    "\n",
    "    parsed_example = tf.io.parse_single_example(example, feature_description)\n",
    "\n",
    "    image_l = tf.reshape(parsed_example['image_l'], shape=[width, height, 1])\n",
    "    image_ab = tf.reshape(parsed_example['image_ab'], shape=[width, height, 2])\n",
    "    image_emb = parsed_example['image_embedding']\n",
    "\n",
    "\n",
    "    return {\"image_l\": image_l, \"image_ab\": image_ab, \"image_embedding\": image_emb}\n"
   ],
   "metadata": {
    "id": "OhKiAnPpsyli",
    "ExecuteTime": {
     "end_time": "2024-06-11T10:56:18.111624Z",
     "start_time": "2024-06-11T10:56:18.104337Z"
    }
   },
   "id": "OhKiAnPpsyli",
   "outputs": [],
   "execution_count": 4
  },
  {
   "metadata": {
    "ExecuteTime": {
     "end_time": "2024-06-11T10:56:19.046390Z",
     "start_time": "2024-06-11T10:56:19.041128Z"
    }
   },
   "cell_type": "code",
   "source": [
    "def data_generator(dataset):\n",
    "    for data in dataset:\n",
    "        yield (data[\"image_l\"], data[\"image_embedding\"]), data[\"image_ab\"]"
   ],
   "id": "f6ae83ac15116de7",
   "outputs": [],
   "execution_count": 5
  },
  {
   "metadata": {
    "id": "cd79ba497bb08b07",
    "ExecuteTime": {
     "end_time": "2024-06-11T11:51:17.954739Z",
     "start_time": "2024-06-11T11:51:17.946329Z"
    }
   },
   "cell_type": "code",
   "source": [
    "def train_model(tfrecords_dir, output_dir, run_id, epochs, batch_size, learning_rate, resume=False, checkpoint_epoch=0):\n",
    "    \n",
    "    train_dataset = load_dataset(tfrecords_dir, batch_size, \"lab_images_*.tfrecord\", shuffle=True,)\n",
    "    val_dataset = load_dataset(tfrecords_dir, batch_size, \"val_lab_images_*.tfrecord\", shuffle=True,)    \n",
    "\n",
    "   \n",
    "    colorization_model = Colorization(depth_after_fusion=256)\n",
    "    input_l = tf.keras.Input(shape=(224, 224, 1), name='image_l')\n",
    "    input_emb = tf.keras.Input(shape=([1001]), name='image_embedding')\n",
    "    output_ab = colorization_model.build(input_l, input_emb)\n",
    "\n",
    "    \n",
    "    model = tf.keras.Model(inputs=[input_l, input_emb], outputs=output_ab)\n",
    "    model.compile(optimizer=tf.keras.optimizers.Adam(learning_rate), loss='MSE', metrics=['accuracy'])\n",
    "    #print(model.summary())\n",
    "\n",
    "    model_dir = Path(output_dir) / run_id\n",
    "    model_dir.mkdir(parents=True, exist_ok=True)\n",
    "\n",
    "    if resume:\n",
    "        checkpoint_path = model_dir / f\"colorization_model_{checkpoint_epoch:02d}.keras\" \n",
    "        if checkpoint_path.exists():\n",
    "            print(f\"Loading checkpoint: {checkpoint_path}\")\n",
    "            try:\n",
    "                model.load_weights(checkpoint_path)\n",
    "            except Exception as e:  # Catch any exceptions during loading\n",
    "                print(f\"Error loading checkpoint: {e}\")\n",
    "                print(\"Starting training from scratch.\")\n",
    "                initial_epoch = 0\n",
    "            else:\n",
    "                initial_epoch = checkpoint_epoch\n",
    "                print(f\"Resuming from epoch {initial_epoch}\")\n",
    "        else:\n",
    "            print(f\"Checkpoint not found at {checkpoint_path}. Starting training from scratch.\")\n",
    "            initial_epoch = 0\n",
    "    else:\n",
    "        print(\"Not resuming training. Starting from scratch.\")\n",
    "        initial_epoch = 0\n",
    "    \n",
    "    callbacks = [\n",
    "        EarlyStopping(patience=10, restore_best_weights=True),\n",
    "        ModelCheckpoint(\n",
    "            filepath=model_dir  / \"colorization_model_{epoch:02d}.keras\",\n",
    "            save_best_only=True,\n",
    "            monitor='val_loss'\n",
    "        ),\n",
    "        TensorBoard(log_dir=model_dir / \"logs\", histogram_freq=1)\n",
    "\n",
    "    ]\n",
    "    history = model.fit(data_generator(train_dataset), \n",
    "            epochs=epochs,\n",
    "            steps_per_epoch=10,\n",
    "            validation_data=data_generator(val_dataset),\n",
    "            callbacks=callbacks,\n",
    "            validation_steps=1,\n",
    "            initial_epoch=initial_epoch,\n",
    "            verbose=1,\n",
    ")\n",
    "\n",
    "    model.save(tf.io.gfile.join(output_dir, run_id, \"final_colorization_model.keras\"))\n",
    "    return history"
   ],
   "id": "cd79ba497bb08b07",
   "outputs": [],
   "execution_count": 10
  },
  {
   "metadata": {
    "ExecuteTime": {
     "end_time": "2024-06-11T11:51:18.614200Z",
     "start_time": "2024-06-11T11:51:18.608368Z"
    }
   },
   "cell_type": "code",
   "source": [
    "tfrecords_dir = \"./tfrecords\"\n",
    "output_dir = \"./output\"\n",
    "run_id = \"./colorization_run\"\n",
    "epochs = 10\n",
    "batch_size = 64\n",
    "learning_rate = 0.001"
   ],
   "id": "1717f94f59ea02b1",
   "outputs": [],
   "execution_count": 11
  },
  {
   "cell_type": "code",
   "source": [
    "# Run the training process\n",
    "history = train_model(tfrecords_dir, output_dir, run_id, epochs, batch_size, learning_rate, resume=True)"
   ],
   "metadata": {
    "colab": {
     "base_uri": "https://localhost:8080/"
    },
    "id": "_6Qj3UnEIeNi",
    "outputId": "11fed227-65e3-4baf-9662-5f68131f1c39",
    "ExecuteTime": {
     "end_time": "2024-06-11T12:28:31.189247Z",
     "start_time": "2024-06-11T11:51:19.411518Z"
    }
   },
   "id": "_6Qj3UnEIeNi",
   "outputs": [
    {
     "name": "stdout",
     "output_type": "stream",
     "text": [
      "Checkpoint not found at output/colorization_run/colorization_model_00.keras. Starting training from scratch.\n",
      "Epoch 1/10\n",
      "\u001B[1m10/10\u001B[0m \u001B[32m━━━━━━━━━━━━━━━━━━━━\u001B[0m\u001B[37m\u001B[0m \u001B[1m236s\u001B[0m 23s/step - accuracy: 0.5656 - loss: 0.0584 - val_accuracy: 0.7402 - val_loss: 0.0129\n",
      "Epoch 2/10\n",
      "\u001B[1m10/10\u001B[0m \u001B[32m━━━━━━━━━━━━━━━━━━━━\u001B[0m\u001B[37m\u001B[0m \u001B[1m285s\u001B[0m 28s/step - accuracy: 0.6641 - loss: 0.0139 - val_accuracy: 0.7548 - val_loss: 0.0111\n",
      "Epoch 3/10\n",
      "\u001B[1m10/10\u001B[0m \u001B[32m━━━━━━━━━━━━━━━━━━━━\u001B[0m\u001B[37m\u001B[0m \u001B[1m272s\u001B[0m 27s/step - accuracy: 0.7288 - loss: 0.0103 - val_accuracy: 0.7771 - val_loss: 0.0122\n",
      "Epoch 4/10\n",
      "\u001B[1m10/10\u001B[0m \u001B[32m━━━━━━━━━━━━━━━━━━━━\u001B[0m\u001B[37m\u001B[0m \u001B[1m253s\u001B[0m 25s/step - accuracy: 0.7463 - loss: 0.0107 - val_accuracy: 0.7550 - val_loss: 0.0104\n",
      "Epoch 5/10\n",
      "\u001B[1m10/10\u001B[0m \u001B[32m━━━━━━━━━━━━━━━━━━━━\u001B[0m\u001B[37m\u001B[0m \u001B[1m250s\u001B[0m 25s/step - accuracy: 0.7472 - loss: 0.0113 - val_accuracy: 0.7283 - val_loss: 0.0112\n",
      "Epoch 6/10\n",
      "\u001B[1m10/10\u001B[0m \u001B[32m━━━━━━━━━━━━━━━━━━━━\u001B[0m\u001B[37m\u001B[0m \u001B[1m248s\u001B[0m 25s/step - accuracy: 0.6977 - loss: 0.0114 - val_accuracy: 0.7315 - val_loss: 0.0083\n",
      "Epoch 7/10\n",
      "\u001B[1m10/10\u001B[0m \u001B[32m━━━━━━━━━━━━━━━━━━━━\u001B[0m\u001B[37m\u001B[0m \u001B[1m256s\u001B[0m 25s/step - accuracy: 0.7336 - loss: 0.0106 - val_accuracy: 0.7256 - val_loss: 0.0111\n",
      "Epoch 8/10\n",
      "\u001B[1m10/10\u001B[0m \u001B[32m━━━━━━━━━━━━━━━━━━━━\u001B[0m\u001B[37m\u001B[0m \u001B[1m192s\u001B[0m 19s/step - accuracy: 0.7126 - loss: 0.0097 - val_accuracy: 0.7632 - val_loss: 0.0161\n",
      "Epoch 9/10\n",
      "\u001B[1m10/10\u001B[0m \u001B[32m━━━━━━━━━━━━━━━━━━━━\u001B[0m\u001B[37m\u001B[0m \u001B[1m118s\u001B[0m 12s/step - accuracy: 0.7411 - loss: 0.0100 - val_accuracy: 0.7340 - val_loss: 0.0094\n",
      "Epoch 10/10\n",
      "\u001B[1m10/10\u001B[0m \u001B[32m━━━━━━━━━━━━━━━━━━━━\u001B[0m\u001B[37m\u001B[0m \u001B[1m115s\u001B[0m 12s/step - accuracy: 0.7524 - loss: 0.0102 - val_accuracy: 0.7768 - val_loss: 0.0102\n"
     ]
    }
   ],
   "execution_count": 12
  },
  {
   "metadata": {
    "ExecuteTime": {
     "end_time": "2024-06-11T12:28:37.773910Z",
     "start_time": "2024-06-11T12:28:37.766129Z"
    }
   },
   "cell_type": "code",
   "source": [
    "def plot_history(history):\n",
    "    plt.figure(figsize=(12, 6))\n",
    "    plt.subplot(1, 2, 1)\n",
    "    plt.plot(history.history['loss'], label='Training Loss')\n",
    "    plt.plot(history.history['val_loss'], label='Validation Loss')\n",
    "    plt.xlabel('Epoch')\n",
    "    plt.ylabel('Loss')\n",
    "    plt.legend()\n",
    "    plt.title('Training and Validation Loss')\n",
    "\n",
    "    plt.show()"
   ],
   "id": "e45ead1da04b1df8",
   "outputs": [],
   "execution_count": 13
  },
  {
   "metadata": {
    "ExecuteTime": {
     "end_time": "2024-06-11T12:28:39.596720Z",
     "start_time": "2024-06-11T12:28:39.357480Z"
    }
   },
   "cell_type": "code",
   "source": "plot_history(history)",
   "id": "8101f941d5782c49",
   "outputs": [
    {
     "data": {
      "text/plain": [
       "<Figure size 1200x600 with 1 Axes>"
      ],
      "image/png": "[encoded data removed]"
     },
     "metadata": {},
     "output_type": "display_data"
    }
   ],
   "execution_count": 14
  },
  {
   "metadata": {
    "ExecuteTime": {
     "end_time": "2024-06-11T12:28:46.027227Z",
     "start_time": "2024-06-11T12:28:46.023116Z"
    }
   },
   "cell_type": "code",
   "source": [
    "print(f'Training Loss: {history.history[\"loss\"][-1]:.4f}')\n",
    "print(f'Validation Loss: {history.history[\"val_loss\"][-1]  :.4f}')"
   ],
   "id": "2c5eb92c7660f5aa",
   "outputs": [
    {
     "name": "stdout",
     "output_type": "stream",
     "text": [
      "Training Loss: 0.0104\n",
      "Validation Loss: 0.0102\n"
     ]
    }
   ],
   "execution_count": 15
  },
  {
   "metadata": {
    "ExecuteTime": {
     "end_time": "2024-06-11T12:28:47.147946Z",
     "start_time": "2024-06-11T12:28:47.143029Z"
    }
   },
   "cell_type": "code",
   "source": [
    "def l_to_rgb(img_l):\n",
    "    lab = np.squeeze(255 * (img_l + 1) / 2)\n",
    "    return gray2rgb(lab) / 255\n",
    "\n",
    "def lab_to_rgb(img_l, img_ab):\n",
    "    lab = np.empty([*img_l.shape[0:2], 3])\n",
    "    lab[:, :, 0] = np.squeeze(((img_l + 1) * 50))\n",
    "    lab[:, :, 1:] = img_ab * 127\n",
    "    return lab2rgb(lab)"
   ],
   "id": "a3c82ba8d1aa1deb",
   "outputs": [],
   "execution_count": 16
  },
  {
   "metadata": {
    "ExecuteTime": {
     "end_time": "2024-06-11T12:33:10.034670Z",
     "start_time": "2024-06-11T12:33:10.027124Z"
    }
   },
   "cell_type": "code",
   "source": [
    "def evaluate_model(model, test_dataset, batch_size, num_test_samples=500):\n",
    "\n",
    "    test_steps = num_test_samples // batch_size\n",
    "\n",
    "    test_loss = model.evaluate(data_generator(test_dataset), steps=test_steps, verbose=1)[0]\n",
    "    print(f\"Test Loss: {test_loss:.4f}\")\n",
    "\n",
    "\n",
    "def save_results(model, test_dataset, output_dir=None):\n",
    "\n",
    "    res = {\n",
    "        \"imgs_l\": [],\n",
    "        \"imgs_ab\": [],\n",
    "        \"imgs_true_ab\": [],\n",
    "        \"imgs_emb\": [],\n",
    "    }\n",
    "\n",
    "    for data in test_dataset:\n",
    "        img_l, img_ab, embedding = data[\"image_l\"], data[\"image_ab\"], data[\"image_embedding\"]\n",
    "\n",
    "        output_ab = model.predict([img_l, embedding])\n",
    "\n",
    "        res[\"imgs_l\"].extend(img_l.numpy())\n",
    "        res[\"imgs_ab\"].extend(output_ab)\n",
    "        res[\"imgs_true_ab\"].extend(img_ab.numpy())\n",
    "        res[\"imgs_emb\"].extend(embedding.numpy())\n",
    "\n",
    "    for k in range(len(res[\"imgs_l\"])):\n",
    "        img_gray = l_to_rgb(res[\"imgs_l\"][k][:, :, 0])\n",
    "        img_output = lab_to_rgb(res[\"imgs_l\"][k][:, :, 0], res[\"imgs_ab\"][k])\n",
    "        img_true = lab_to_rgb(res[\"imgs_l\"][k][:, :, 0], res[\"imgs_true_ab\"][k])\n",
    "\n",
    "\n",
    "        plt.subplot(1, 3, 1)\n",
    "        plt.imshow(img_gray)\n",
    "        plt.title(\"Input (grayscale)\")\n",
    "        plt.axis(\"off\")\n",
    "        plt.subplot(1, 3, 2)\n",
    "        plt.imshow(img_output)\n",
    "        plt.title(\"Network output\")\n",
    "        plt.axis(\"off\")\n",
    "        plt.subplot(1, 3, 3)\n",
    "        plt.imshow(img_true)\n",
    "        plt.title(\"Target (original)\")\n",
    "        plt.axis(\"off\")\n",
    "        \n",
    "            \n",
    "        plt.savefig(Path(output_dir) / f\"test_{k}.png\")\n",
    "        plt.clf()\n",
    "        plt.close()    "
   ],
   "id": "4b7ae0caeb03fa8f",
   "outputs": [],
   "execution_count": 30
  },
  {
   "metadata": {
    "ExecuteTime": {
     "end_time": "2024-06-11T12:32:20.540673Z",
     "start_time": "2024-06-11T12:32:20.537398Z"
    }
   },
   "cell_type": "code",
   "source": [
    "model_path = \"final_colorization_model.keras\"\n",
    "tfrecords_dir = \"./tfrecords\"  # Replace with your test TFRecord directory\n",
    "#test_model(model_path, tfrecords_dir, batch_size=16, save_images=True)"
   ],
   "id": "e38c3e6137e7600c",
   "outputs": [],
   "execution_count": 27
  },
  {
   "metadata": {
    "ExecuteTime": {
     "end_time": "2024-06-11T12:32:21.569248Z",
     "start_time": "2024-06-11T12:32:20.979072Z"
    }
   },
   "cell_type": "code",
   "source": [
    "model = tf.keras.models.load_model(\n",
    "    model_path, custom_objects={\"FusionLayer\": FusionLayer}\n",
    ")\n",
    "test_dataset = load_dataset(\n",
    "    tfrecords_dir, batch_size, \"test_lab_images_*.tfrecord\", shuffle=False,\n",
    ")"
   ],
   "id": "bec36484e9e147ab",
   "outputs": [],
   "execution_count": 28
  },
  {
   "metadata": {
    "ExecuteTime": {
     "end_time": "2024-06-11T12:29:17.360244Z",
     "start_time": "2024-06-11T12:28:54.152364Z"
    }
   },
   "cell_type": "code",
   "source": "evaluate_model(model, test_dataset, batch_size, 500)",
   "id": "d6ef5d86a0e77b0a",
   "outputs": [
    {
     "name": "stdout",
     "output_type": "stream",
     "text": [
      "\u001B[1m7/7\u001B[0m \u001B[32m━━━━━━━━━━━━━━━━━━━━\u001B[0m\u001B[37m\u001B[0m \u001B[1m23s\u001B[0m 3s/step - accuracy: 0.7699 - loss: 0.0110\n",
      "Test Loss: 0.0113\n"
     ]
    },
    {
     "data": {
      "text/plain": [
       "0.01133487094193697"
      ]
     },
     "execution_count": 20,
     "metadata": {},
     "output_type": "execute_result"
    }
   ],
   "execution_count": 20
  },
  {
   "metadata": {
    "ExecuteTime": {
     "end_time": "2024-06-11T12:34:38.406094Z",
     "start_time": "2024-06-11T12:33:20.690804Z"
    }
   },
   "cell_type": "code",
   "source": "save_results(model, test_dataset,Path(output_dir) / 'test_results')",
   "id": "4086c1337780ce57",
   "outputs": [
    {
     "name": "stdout",
     "output_type": "stream",
     "text": [
      "\u001B[1m2/2\u001B[0m \u001B[32m━━━━━━━━━━━━━━━━━━━━\u001B[0m\u001B[37m\u001B[0m \u001B[1m3s\u001B[0m 2s/step\n",
      "\u001B[1m2/2\u001B[0m \u001B[32m━━━━━━━━━━━━━━━━━━━━\u001B[0m\u001B[37m\u001B[0m \u001B[1m3s\u001B[0m 2s/step\n",
      "\u001B[1m2/2\u001B[0m \u001B[32m━━━━━━━━━━━━━━━━━━━━\u001B[0m\u001B[37m\u001B[0m \u001B[1m3s\u001B[0m 2s/step\n",
      "\u001B[1m2/2\u001B[0m \u001B[32m━━━━━━━━━━━━━━━━━━━━\u001B[0m\u001B[37m\u001B[0m \u001B[1m3s\u001B[0m 2s/step\n",
      "\u001B[1m2/2\u001B[0m \u001B[32m━━━━━━━━━━━━━━━━━━━━\u001B[0m\u001B[37m\u001B[0m \u001B[1m3s\u001B[0m 2s/step\n",
      "\u001B[1m2/2\u001B[0m \u001B[32m━━━━━━━━━━━━━━━━━━━━\u001B[0m\u001B[37m\u001B[0m \u001B[1m3s\u001B[0m 2s/step\n",
      "\u001B[1m2/2\u001B[0m \u001B[32m━━━━━━━━━━━━━━━━━━━━\u001B[0m\u001B[37m\u001B[0m \u001B[1m3s\u001B[0m 2s/step\n",
      "\u001B[1m2/2\u001B[0m \u001B[32m━━━━━━━━━━━━━━━━━━━━\u001B[0m\u001B[37m\u001B[0m \u001B[1m4s\u001B[0m 2s/step\n"
     ]
    },
    {
     "name": "stderr",
     "output_type": "stream",
     "text": [
      "2024-06-11 14:33:47.050156: W tensorflow/core/framework/local_rendezvous.cc:404] Local rendezvous is aborting with status: OUT_OF_RANGE: End of sequence\n"
     ]
    }
   ],
   "execution_count": 31
  },
  {
   "metadata": {},
   "cell_type": "code",
   "outputs": [],
   "execution_count": null,
   "source": "",
   "id": "2983bf2ddb2e79f9"
  }
 ],
 "metadata": {
  "kernelspec": {
   "display_name": "Python 3",
   "language": "python",
   "name": "python3"
  },
  "language_info": {
   "codemirror_mode": {
    "name": "ipython",
    "version": 2
   },
   "file_extension": ".py",
   "mimetype": "text/x-python",
   "name": "python",
   "nbconvert_exporter": "python",
   "pygments_lexer": "ipython2",
   "version": "2.7.6"
  },
  "colab": {
   "provenance": []
  }
 },
 "nbformat": 4,
 "nbformat_minor": 5
}
